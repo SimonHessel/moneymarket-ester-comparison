{
 "cells": [
  {
   "cell_type": "code",
   "execution_count": null,
   "metadata": {},
   "outputs": [],
   "source": [
    "import pandas as pd\n",
    "import matplotlib.pyplot as plt\n",
    "from sklearn.metrics import r2_score\n",
    "import sys"
   ]
  },
  {
   "cell_type": "code",
   "execution_count": null,
   "metadata": {},
   "outputs": [],
   "source": [
    "# Load the datasets\n",
    "euster_df = pd.read_csv('./data/euster.csv')\n",
    "fond_df = pd.read_csv('./data/fond.csv')\n",
    "\n",
    "# Clean fond data\n",
    "fond_df['Date'] = pd.to_datetime(fond_df['Date'])\n",
    "fond_df = fond_df.sort_values(by='Date')\n",
    "\n",
    "# Clean euster data\n",
    "euster_df['Date'] = pd.to_datetime(euster_df['DATE'])\n",
    "euster_df = euster_df.drop('DATE', axis=1)\n",
    "euster_df = euster_df.sort_values('Date')\n",
    "euster_df[\"Date\"] = euster_df[\"Date\"].astype('datetime64[ns]')"
   ]
  },
  {
   "cell_type": "code",
   "execution_count": null,
   "metadata": {},
   "outputs": [],
   "source": [
    "def calculate_non_overlapping_window_return(df, window_size=20):\n",
    "    # Number of windows\n",
    "    num_windows = len(df) // window_size\n",
    "\n",
    "    # Create a new DataFrame to store the results\n",
    "    results_df = pd.DataFrame(index=range(num_windows), columns=['Date', 'Annualized Return'])\n",
    "    \n",
    "    # Iterate over the DataFrame\n",
    "    for i in range(num_windows):\n",
    "        # Determine the start and end of the window\n",
    "        start = i * window_size\n",
    "        end = (i + 1) * window_size\n",
    "        window_df = df.iloc[start:end]\n",
    "        \n",
    "        # Calculate the annualized return for the window\n",
    "        if not window_df.empty:\n",
    "            window_size_actual = len(window_df)\n",
    "            annualized_return = (window_df['Price'].iloc[-1] / window_df['Price'].iloc[0])**(365/window_size_actual) - 1\n",
    "            results_df.loc[i, 'Annualized Return'] = annualized_return * 100\n",
    "            # middle date of the window\n",
    "            results_df.loc[i, 'Date'] = window_df['Date'].iloc[window_size_actual // 2] \n",
    "    \n",
    "    # Remove rows with no calculated return\n",
    "    results_df = results_df.dropna()\n",
    "    \n",
    "    return results_df"
   ]
  },
  {
   "cell_type": "code",
   "execution_count": null,
   "metadata": {},
   "outputs": [],
   "source": [
    "start_date_filter = pd.to_datetime(\"2022-08-01\")\n",
    "euster_filtered = euster_df[euster_df['Date'] >= start_date_filter]"
   ]
  },
  {
   "cell_type": "code",
   "execution_count": null,
   "metadata": {},
   "outputs": [],
   "source": [
    "# Data for best r2 window size dataframe\n",
    "best_r2_df = None\n",
    "best_r2_window_size = None\n",
    "best_r2 = 0\n",
    "best_r2_median_tracking_difference =sys.maxsize\n",
    "\n",
    "# Data for best tracking difference window size dataframe\n",
    "best_td_df = None\n",
    "best_td_window_size = None\n",
    "best_td_r2 = 0\n",
    "best_td_median_tracking_difference =sys.maxsize\n",
    "\n",
    "# Check window sizes from 1 to 100\n",
    "for i in range(1,100):\n",
    "    # Calculate the annualized return for each window\n",
    "    annual_returns_df = calculate_non_overlapping_window_return(fond_df[fond_df['Date'] >= start_date_filter],i)\n",
    "\n",
    "\n",
    "    annual_returns_df[\"Date\"] = annual_returns_df[\"Date\"].astype('datetime64[ns]')\n",
    "\n",
    "    # Merge the datasets and calculate the tracking difference\n",
    "    merged_df = pd.merge(euster_filtered, annual_returns_df, left_on='Date', right_on='Date')\n",
    "    merged_df['Tracking Difference'] = merged_df['VALUE'] - merged_df['Annualized Return']\n",
    "    median_tracking_difference = merged_df['Tracking Difference'].median()\n",
    "\n",
    "    r2 = r2_score(merged_df['VALUE'], merged_df['Annualized Return'])\n",
    "\n",
    "    # Update best r2 if needed\n",
    "    if r2 > best_r2:\n",
    "        best_r2 = r2\n",
    "        best_r2_df = annual_returns_df\n",
    "        best_r2_window_size = i\n",
    "        best_r2_median_tracking_difference = median_tracking_difference\n",
    "        \n",
    "    # Update best tracking difference if needed\n",
    "    if abs(median_tracking_difference) < best_td_median_tracking_difference:\n",
    "        best_td_median_tracking_difference = median_tracking_difference\n",
    "        best_td_df = annual_returns_df\n",
    "        best_td_window_size = i\n",
    "        best_td_r2 = r2"
   ]
  },
  {
   "cell_type": "code",
   "execution_count": null,
   "metadata": {},
   "outputs": [],
   "source": [
    "plt.figure(figsize=(12, 6))\n",
    "plt.plot(best_r2_df['Date'], best_r2_df['Annualized Return'],label=f'Best r2 (window size = {best_r2_window_size}, r2={best_r2:.2f}, tracking difference={best_r2_median_tracking_difference:.2f}%)')\n",
    "plt.plot(best_td_df['Date'], best_td_df['Annualized Return'],label=f'Best tracking difference (window size = {best_td_window_size}, r2={best_td_r2:.2f}, tracking difference={best_td_median_tracking_difference:.2f}%)')\n",
    "\n",
    "# Plot EUSTER value\n",
    "plt.plot(euster_filtered['Date'], euster_filtered['VALUE'], label='EUSTER Value')\n",
    "\n",
    "plt.title('Annualized Returns and EUSTER Value over Time')\n",
    "plt.xlabel('Date')\n",
    "\n",
    "plt.ylabel('Percentage (%)')\n",
    "plt.legend()\n",
    "plt.grid(True)\n",
    "plt.show()"
   ]
  }
 ],
 "metadata": {
  "kernelspec": {
   "display_name": "finance",
   "language": "python",
   "name": "python3"
  },
  "language_info": {
   "codemirror_mode": {
    "name": "ipython",
    "version": 3
   },
   "file_extension": ".py",
   "mimetype": "text/x-python",
   "name": "python",
   "nbconvert_exporter": "python",
   "pygments_lexer": "ipython3",
   "version": "3.11.1"
  },
  "orig_nbformat": 4
 },
 "nbformat": 4,
 "nbformat_minor": 2
}
