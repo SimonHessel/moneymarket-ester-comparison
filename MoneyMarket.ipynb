{
 "cells": [
  {
   "cell_type": "code",
   "execution_count": null,
   "metadata": {},
   "outputs": [],
   "source": [
    "import pandas as pd\n",
    "import matplotlib.pyplot as plt\n",
    "import sys\n",
    "import numpy as np"
   ]
  },
  {
   "cell_type": "code",
   "execution_count": null,
   "metadata": {},
   "outputs": [],
   "source": [
    "# Load the datasets\n",
    "euster_df = pd.read_csv('./data/euster.csv')\n",
    "fond_df = pd.read_csv('./data/fond.csv')\n",
    "\n",
    "# Clean fond data\n",
    "fond_df['Date'] = pd.to_datetime(fond_df['Date'])\n",
    "fond_df = fond_df.sort_values(by='Date')\n",
    "\n",
    "# Clean euster data\n",
    "\n",
    "\n",
    "# rename columns\n",
    "euster_df = euster_df.rename(columns={\"ECBESTRVOLWGTTRMDMNRT\": \"Value\",\"DATE\": \"Date\"})\n",
    "euster_df['Date'] = pd.to_datetime(euster_df['Date'])\n",
    "euster_df = euster_df.sort_values('Date')\n",
    "\n",
    "# filter NaN values\n",
    "# Convert a column to numeric, coercing non-numeric values to NaN\n",
    "euster_df['Value'] = pd.to_numeric(euster_df['Value'], errors='coerce')\n",
    "\n",
    "# Drop the rows where the column has NaN values\n",
    "euster_df = euster_df.dropna(subset=['Value'])\n",
    "\n",
    "euster_df[\"Date\"] = euster_df[\"Date\"].astype('datetime64[ns]')"
   ]
  },
  {
   "cell_type": "code",
   "execution_count": null,
   "metadata": {},
   "outputs": [],
   "source": [
    "def caclculate_annualized_return(window_df, window_size_actual):\n",
    "    return (window_df['Price'].iloc[-1] / window_df['Price'].iloc[0])**(365/window_size_actual) - 1\n",
    "    \n",
    "def calculate_non_overlapping_window_return(df, window_size_or_windows=20):\n",
    "    if isinstance(window_size_or_windows, int):\n",
    "        # Original logic\n",
    "        num_windows = len(df) // window_size_or_windows\n",
    "        results_df = pd.DataFrame(index=range(num_windows), columns=['Date', 'Annualized Return'])\n",
    "\n",
    "        for i in range(num_windows):\n",
    "            start = i * window_size_or_windows\n",
    "            end = (i + 1) * window_size_or_windows\n",
    "            window_df = df.iloc[start:end]\n",
    "            if not window_df.empty:\n",
    "                window_size_actual = len(window_df)\n",
    "                annualized_return = caclculate_annualized_return(window_df, window_size_actual)\n",
    "                results_df.loc[i, 'Annualized Return'] = annualized_return * 100\n",
    "                results_df.loc[i, 'Date'] = window_df['Date'].iloc[window_size_actual // 2] \n",
    "        \n",
    "\n",
    "    elif isinstance(window_size_or_windows, list):\n",
    "        # New logic for list of date pairs\n",
    "        results_df = pd.DataFrame(columns=['Date', 'Annualized Return'])\n",
    "        for i, (start_date, end_date) in enumerate(window_size_or_windows):\n",
    "            window_df = df[(df['Date'] >= start_date) & (df['Date'] <= end_date)]\n",
    "            if not window_df.empty:\n",
    "                window_size_actual = len(window_df)\n",
    "                annualized_return = caclculate_annualized_return(window_df, window_size_actual)\n",
    "                results_df.loc[i, 'Date'] = window_df['Date'].iloc[window_size_actual // 2]\n",
    "                results_df.loc[i, 'Annualized Return'] = annualized_return * 100\n",
    "    else:\n",
    "        raise ValueError(\"window_size must be an integer or a list of date pairs\")\n",
    "    \n",
    "    results_df = results_df.dropna()\n",
    "    results_df[\"Date\"] = results_df[\"Date\"].astype('datetime64[ns]')\n",
    "    return results_df\n",
    "\n"
   ]
  },
  {
   "cell_type": "code",
   "execution_count": null,
   "metadata": {},
   "outputs": [],
   "source": [
    "start_date_filter = pd.to_datetime(\"2022-08-01\")\n",
    "euster_filtered_df = euster_df[euster_df['Date'] >= start_date_filter]\n",
    "\n",
    "fond_filtered_df = fond_df[fond_df['Date'] >= start_date_filter]"
   ]
  },
  {
   "cell_type": "code",
   "execution_count": null,
   "metadata": {},
   "outputs": [],
   "source": [
    "def calculate_median_tracking_difference(index_df,fond_df):\n",
    "    merged_df = pd.merge(index_df, fond_df, left_on='Date', right_on='Date')\n",
    "    merged_df['Tracking Difference'] = merged_df['Value'] - merged_df['Annualized Return']\n",
    "    median_tracking_difference = merged_df['Tracking Difference'].median()\n",
    "\n",
    "    return median_tracking_difference"
   ]
  },
  {
   "cell_type": "code",
   "execution_count": null,
   "metadata": {},
   "outputs": [],
   "source": [
    "# Data for best tracking difference window size dataframe\n",
    "best_td_df = None\n",
    "best_td_window_size = None\n",
    "best_td_median_tracking_difference =sys.maxsize\n",
    "\n",
    "# Check window sizes from 1 to 100\n",
    "for i in range(1,100):\n",
    "    # Calculate the annualized return for each window\n",
    "    annual_returns_df = calculate_non_overlapping_window_return(fond_filtered_df,i)\n",
    "    median_tracking_difference = calculate_median_tracking_difference(euster_filtered_df, annual_returns_df)\n",
    "    \n",
    "    # Update best tracking difference if needed\n",
    "    if abs(median_tracking_difference) < best_td_median_tracking_difference:\n",
    "        best_td_median_tracking_difference = median_tracking_difference\n",
    "        best_td_df = annual_returns_df\n",
    "        best_td_window_size = i"
   ]
  },
  {
   "cell_type": "code",
   "execution_count": null,
   "metadata": {},
   "outputs": [],
   "source": [
    "def show_chart(df,window_size,median_tracking_difference,label):\n",
    "    plt.figure(figsize=(12, 6))\n",
    "    plt.plot(df['Date'], df['Annualized Return'],label=f'{label} (window size = {window_size}, tracking difference={median_tracking_difference:.2f}%)')\n",
    "\n",
    "    # Plot EUSTER value\n",
    "    plt.plot(euster_filtered_df['Date'], euster_filtered_df['Value'], label='EUSTER Value')\n",
    "\n",
    "    plt.title('Annualized Returns and EUSTER Value over Time')\n",
    "    plt.xlabel('Date')\n",
    "\n",
    "    plt.ylabel('Percentage (%)')\n",
    "    plt.legend()\n",
    "    plt.grid(True)\n",
    "    plt.show()"
   ]
  },
  {
   "cell_type": "code",
   "execution_count": null,
   "metadata": {},
   "outputs": [],
   "source": [
    "show_chart(best_td_df,best_td_window_size,best_td_median_tracking_difference,\"Best tracking difference\")"
   ]
  },
  {
   "cell_type": "code",
   "execution_count": null,
   "metadata": {},
   "outputs": [],
   "source": [
    "def create_windows(df,change_threshold):\n",
    "    significant_change_indices = df.index[df['Value'].diff().abs() > 0.1]\n",
    "    windows = []\n",
    "    start_date = df['Date'].iloc[0]\n",
    "    for end_date in significant_change_indices:\n",
    "        windows.append((start_date, df['Date'].iloc[end_date] - pd.Timedelta(days=1)))\n",
    "        start_date = df['Date'].iloc[end_date]\n",
    "    windows.append((start_date, df['Date'].iloc[-1]))\n",
    "    return windows\n",
    "\n",
    "\n",
    "# Calculate the annualized return for each window\n",
    "windows = create_windows(euster_df,0.05)\n",
    "\n",
    "average_window_size = np.mean([window[1] - window[0] for window in windows if window[0] > start_date_filter])\n",
    "\n",
    "ester_window_annualized_df = calculate_non_overlapping_window_return(fond_df, windows)\n",
    "# filter from start_date_filter\n",
    "ester_window_annualized_df = ester_window_annualized_df[ester_window_annualized_df['Date'] >= start_date_filter] \n",
    "\n",
    "median_tracking_difference = calculate_median_tracking_difference(euster_filtered_df, ester_window_annualized_df)\n",
    "\n",
    "show_chart(ester_window_annualized_df,average_window_size,median_tracking_difference,\"Index change window\")\n"
   ]
  }
 ],
 "metadata": {
  "kernelspec": {
   "display_name": "finance",
   "language": "python",
   "name": "python3"
  },
  "language_info": {
   "codemirror_mode": {
    "name": "ipython",
    "version": 3
   },
   "file_extension": ".py",
   "mimetype": "text/x-python",
   "name": "python",
   "nbconvert_exporter": "python",
   "pygments_lexer": "ipython3",
   "version": "3.11.1"
  },
  "orig_nbformat": 4
 },
 "nbformat": 4,
 "nbformat_minor": 2
}
